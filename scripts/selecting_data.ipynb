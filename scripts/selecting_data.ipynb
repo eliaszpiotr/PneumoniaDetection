{
  "cells": [
    {
      "cell_type": "markdown",
      "metadata": {
        "id": "daAXKd6Yn9aC"
      },
      "source": [
        "Making dataset of images of x-ray scans for developing project of detedcion changes based on x-ray scans."
      ]
    },
    {
      "cell_type": "code",
      "execution_count": null,
      "metadata": {
        "id": "_TxPDva_hfpr"
      },
      "outputs": [],
      "source": [
        "!pip install -q kaggle"
      ]
    },
    {
      "cell_type": "markdown",
      "metadata": {
        "id": "Q-cJxMwEoo9Q"
      },
      "source": [
        "## 1. Upload the Kaggle API credentials\n",
        "\n",
        "This step is used to upload your Kaggle API credentials to Google Colab. These credentials are stored in a file named kaggle.json that you can download from your Kaggle account settings. This file is required to use the Kaggle API."
      ]
    },
    {
      "cell_type": "code",
      "execution_count": null,
      "metadata": {
        "id": "j5wqOB6ToosN"
      },
      "outputs": [],
      "source": [
        "from google.colab import files\n",
        "files.upload()  # Select the kaggle.json file from your local disk"
      ]
    },
    {
      "cell_type": "markdown",
      "metadata": {
        "id": "v2Tva30koxyk"
      },
      "source": [
        "## 2. Move the `kaggle.json` file to the `.kaggle` directory\n",
        "\n",
        "Next, we move the `kaggle.json` file to the `.kaggle` directory, which is the default location where the Kaggle API looks for these credentials. We also set the file permissions so that only the user can read and write it, which is a requirement from Kaggle for security purposes."
      ]
    },
    {
      "cell_type": "code",
      "execution_count": null,
      "metadata": {
        "id": "_UPS5ZzflXfV"
      },
      "outputs": [],
      "source": [
        "!mkdir ~/.kaggle\n",
        "!cp kaggle.json ~/.kaggle/\n",
        "!chmod 600 ~/.kaggle/kaggle.json\n"
      ]
    },
    {
      "cell_type": "code",
      "execution_count": null,
      "metadata": {
        "colab": {
          "base_uri": "https://localhost:8080/"
        },
        "id": "OurT9ZPolYM1",
        "outputId": "fd1672e4-f976-4411-b13c-4365a7d90bcc"
      },
      "outputs": [
        {
          "name": "stdout",
          "output_type": "stream",
          "text": [
            "Downloading data.zip to /content\n",
            "100% 42.0G/42.0G [31:59<00:00, 28.4MB/s]\n",
            "100% 42.0G/42.0G [31:59<00:00, 23.5MB/s]\n"
          ]
        }
      ],
      "source": [
        "!kaggle datasets download -d nih-chest-xrays/data\n",
        "\n"
      ]
    },
    {
      "cell_type": "code",
      "execution_count": null,
      "metadata": {
        "colab": {
          "base_uri": "https://localhost:8080/"
        },
        "id": "WK-88i_Alb00",
        "outputId": "60c15030-6bc4-4ed3-9a68-dfbb229e1cd3"
      },
      "outputs": [
        {
          "name": "stdout",
          "output_type": "stream",
          "text": [
            "Files unzipped successfully.\n"
          ]
        }
      ],
      "source": [
        "import zipfile\n",
        "import os\n",
        "\n",
        "# Define the path to the .zip file and to the directory where it should be unzipped\n",
        "zip_file_path = '/content/data.zip'\n",
        "destination_directory = '/content/data'\n",
        "\n",
        "# Create the destination directory if it doesn't exist\n",
        "os.makedirs(destination_directory, exist_ok=True)\n",
        "\n",
        "# Open the .zip file\n",
        "with zipfile.ZipFile(zip_file_path, 'r') as zip_ref:\n",
        "    # Unzip the file to the destination directory\n",
        "    zip_ref.extractall(destination_directory)\n",
        "\n",
        "print(\"Files unzipped successfully.\")\n",
        "\n"
      ]
    },
    {
      "cell_type": "markdown",
      "metadata": {
        "id": "N74JOpz4pTcB"
      },
      "source": [
        "## 3. Load and process the dataset\n",
        "\n",
        "We load the dataset from the CSV file and process it. We select 1000 images from each class and store them in a new DataFrame. This is done to reduce the size of the dataset and make it more manageable for our purposes."
      ]
    },
    {
      "cell_type": "code",
      "execution_count": null,
      "metadata": {
        "id": "jjpycDi1ljvx"
      },
      "outputs": [],
      "source": [
        "import pandas as pd\n",
        "\n",
        "# Load the CSV file\n",
        "df = pd.read_csv('/content/data/Data_Entry_2017.csv')\n",
        "\n",
        "# Create an empty DataFrame to which you will add the selected images\n",
        "selected_images_df = pd.DataFrame()\n",
        "\n",
        "# Iterate over all unique classes in df\n",
        "for class_name in df['Finding Labels'].unique():\n",
        "    # Select 1000 images from this class\n",
        "    selected_images = df[df['Finding Labels'] == class_name].sample(1000, replace=True)\n",
        "    # Add them to selected_images_df\n",
        "    selected_images_df = pd.concat([selected_images_df, selected_images])\n",
        "\n",
        "# Now selected_images_df contains 1000 images from each class\n"
      ]
    },
    {
      "cell_type": "markdown",
      "metadata": {
        "id": "Fsa1FIgGpcir"
      },
      "source": [
        "## 4. Create directories for each class and copy the images\n",
        "\n",
        "Finally, we create a directory for each class in the dataset and copy the selected images into their respective directories. Each directory will contain 1000 images from its corresponding class. This step prepares our data for further use, such as for training a machine learning model."
      ]
    },
    {
      "cell_type": "code",
      "source": [
        "import shutil\n",
        "\n",
        "folder_path = '/content/selected_images'\n",
        "shutil.rmtree(folder_path)"
      ],
      "metadata": {
        "id": "pL24CUrPSCHe"
      },
      "execution_count": 27,
      "outputs": []
    },
    {
      "cell_type": "code",
      "execution_count": 28,
      "metadata": {
        "colab": {
          "base_uri": "https://localhost:8080/"
        },
        "id": "l048OAcnpiQC",
        "outputId": "ba937234-b7f3-4619-91e8-08c900ad81bf"
      },
      "outputs": [
        {
          "output_type": "stream",
          "name": "stdout",
          "text": [
            "Copied image 00002256_016.png to /content/selected_images/Cardiomegaly. Total images in Cardiomegaly: 100\n",
            "Copied image 00029665_000.png to /content/selected_images/Cardiomegaly. Total images in Cardiomegaly: 200\n",
            "Copied image 00015202_000.png to /content/selected_images/Cardiomegaly. Total images in Cardiomegaly: 300\n",
            "Copied image 00007326_000.png to /content/selected_images/Cardiomegaly. Total images in Cardiomegaly: 400\n",
            "Copied image 00030764_000.png to /content/selected_images/Cardiomegaly. Total images in Cardiomegaly: 500\n",
            "Copied image 00006875_027.png to /content/selected_images/Cardiomegaly. Total images in Cardiomegaly: 600\n",
            "Copied image 00008898_000.png to /content/selected_images/Cardiomegaly. Total images in Cardiomegaly: 700\n",
            "Copied image 00015563_011.png to /content/selected_images/Cardiomegaly. Total images in Cardiomegaly: 800\n",
            "Copied image 00025684_000.png to /content/selected_images/Cardiomegaly. Total images in Cardiomegaly: 900\n",
            "Copied image 00010095_000.png to /content/selected_images/Cardiomegaly. Total images in Cardiomegaly: 1000\n",
            "Copied image 00006429_000.png to /content/selected_images/No Finding. Total images in No Finding: 100\n",
            "Copied image 00016531_000.png to /content/selected_images/No Finding. Total images in No Finding: 200\n",
            "Copied image 00020702_010.png to /content/selected_images/No Finding. Total images in No Finding: 300\n",
            "Copied image 00019911_000.png to /content/selected_images/No Finding. Total images in No Finding: 400\n",
            "Copied image 00025311_002.png to /content/selected_images/No Finding. Total images in No Finding: 500\n",
            "Copied image 00002582_002.png to /content/selected_images/No Finding. Total images in No Finding: 600\n",
            "Copied image 00017464_010.png to /content/selected_images/No Finding. Total images in No Finding: 700\n",
            "Copied image 00012659_034.png to /content/selected_images/No Finding. Total images in No Finding: 800\n",
            "Copied image 00030032_000.png to /content/selected_images/No Finding. Total images in No Finding: 900\n",
            "Copied image 00003910_001.png to /content/selected_images/No Finding. Total images in No Finding: 1000\n",
            "Copied image 00011805_001.png to /content/selected_images/Hernia. Total images in Hernia: 100\n",
            "Copied image 00019059_000.png to /content/selected_images/Hernia. Total images in Hernia: 200\n",
            "Copied image 00003029_007.png to /content/selected_images/Hernia. Total images in Hernia: 300\n",
            "Copied image 00019027_001.png to /content/selected_images/Hernia. Total images in Hernia: 400\n",
            "Copied image 00020915_000.png to /content/selected_images/Hernia. Total images in Hernia: 500\n",
            "Copied image 00006508_000.png to /content/selected_images/Hernia. Total images in Hernia: 600\n",
            "Copied image 00017136_020.png to /content/selected_images/Hernia. Total images in Hernia: 700\n",
            "Copied image 00007352_000.png to /content/selected_images/Hernia. Total images in Hernia: 800\n",
            "Copied image 00005203_000.png to /content/selected_images/Hernia. Total images in Hernia: 900\n",
            "Copied image 00012883_001.png to /content/selected_images/Hernia. Total images in Hernia: 1000\n",
            "Copied image 00011514_022.png to /content/selected_images/Infiltration. Total images in Infiltration: 99\n",
            "Copied image 00017625_002.png to /content/selected_images/Infiltration. Total images in Infiltration: 199\n",
            "Copied image 00002707_001.png to /content/selected_images/Infiltration. Total images in Infiltration: 299\n",
            "Copied image 00019977_001.png to /content/selected_images/Infiltration. Total images in Infiltration: 399\n",
            "Copied image 00019336_000.png to /content/selected_images/Infiltration. Total images in Infiltration: 499\n",
            "Copied image 00001021_003.png to /content/selected_images/Infiltration. Total images in Infiltration: 599\n",
            "Copied image 00018979_009.png to /content/selected_images/Infiltration. Total images in Infiltration: 699\n",
            "Copied image 00025849_059.png to /content/selected_images/Infiltration. Total images in Infiltration: 799\n",
            "Copied image 00022523_000.png to /content/selected_images/Infiltration. Total images in Infiltration: 899\n",
            "Copied image 00023722_001.png to /content/selected_images/Infiltration. Total images in Infiltration: 999\n",
            "Copied image 00003393_025.png to /content/selected_images/Nodule. Total images in Nodule: 98\n",
            "Copied image 00019210_001.png to /content/selected_images/Nodule. Total images in Nodule: 198\n",
            "Copied image 00016019_004.png to /content/selected_images/Nodule. Total images in Nodule: 298\n",
            "Copied image 00019999_000.png to /content/selected_images/Nodule. Total images in Nodule: 398\n",
            "Copied image 00005604_000.png to /content/selected_images/Nodule. Total images in Nodule: 498\n",
            "Copied image 00002326_001.png to /content/selected_images/Nodule. Total images in Nodule: 598\n",
            "Copied image 00017645_007.png to /content/selected_images/Nodule. Total images in Nodule: 698\n",
            "Copied image 00020405_022.png to /content/selected_images/Nodule. Total images in Nodule: 798\n",
            "Copied image 00011173_000.png to /content/selected_images/Nodule. Total images in Nodule: 898\n",
            "Copied image 00001854_004.png to /content/selected_images/Nodule. Total images in Nodule: 998\n",
            "Copied image 00022734_004.png to /content/selected_images/Emphysema. Total images in Emphysema: 98\n",
            "Copied image 00020570_000.png to /content/selected_images/Emphysema. Total images in Emphysema: 198\n",
            "Copied image 00016587_076.png to /content/selected_images/Emphysema. Total images in Emphysema: 298\n",
            "Copied image 00029813_012.png to /content/selected_images/Emphysema. Total images in Emphysema: 398\n",
            "Copied image 00029259_017.png to /content/selected_images/Emphysema. Total images in Emphysema: 498\n",
            "Copied image 00012567_000.png to /content/selected_images/Emphysema. Total images in Emphysema: 598\n",
            "Copied image 00009735_001.png to /content/selected_images/Emphysema. Total images in Emphysema: 698\n",
            "Copied image 00021226_000.png to /content/selected_images/Emphysema. Total images in Emphysema: 798\n",
            "Copied image 00001701_004.png to /content/selected_images/Emphysema. Total images in Emphysema: 898\n",
            "Copied image 00014849_007.png to /content/selected_images/Emphysema. Total images in Emphysema: 998\n",
            "Copied image 00017318_019.png to /content/selected_images/Effusion. Total images in Effusion: 99\n",
            "Copied image 00020652_009.png to /content/selected_images/Effusion. Total images in Effusion: 199\n",
            "Copied image 00022416_073.png to /content/selected_images/Effusion. Total images in Effusion: 299\n",
            "Copied image 00012415_006.png to /content/selected_images/Effusion. Total images in Effusion: 399\n",
            "Copied image 00010871_000.png to /content/selected_images/Effusion. Total images in Effusion: 499\n",
            "Copied image 00027356_000.png to /content/selected_images/Effusion. Total images in Effusion: 599\n",
            "Copied image 00002381_011.png to /content/selected_images/Effusion. Total images in Effusion: 699\n",
            "Copied image 00020213_008.png to /content/selected_images/Effusion. Total images in Effusion: 799\n",
            "Copied image 00007458_002.png to /content/selected_images/Effusion. Total images in Effusion: 899\n",
            "Copied image 00020671_015.png to /content/selected_images/Effusion. Total images in Effusion: 999\n",
            "Copied image 00028731_003.png to /content/selected_images/Atelectasis. Total images in Atelectasis: 98\n",
            "Copied image 00013430_003.png to /content/selected_images/Atelectasis. Total images in Atelectasis: 198\n",
            "Copied image 00013089_001.png to /content/selected_images/Atelectasis. Total images in Atelectasis: 298\n",
            "Copied image 00010790_012.png to /content/selected_images/Atelectasis. Total images in Atelectasis: 398\n",
            "Copied image 00001088_007.png to /content/selected_images/Atelectasis. Total images in Atelectasis: 498\n",
            "Copied image 00030546_000.png to /content/selected_images/Atelectasis. Total images in Atelectasis: 598\n",
            "Copied image 00023136_001.png to /content/selected_images/Atelectasis. Total images in Atelectasis: 698\n",
            "Copied image 00007930_000.png to /content/selected_images/Atelectasis. Total images in Atelectasis: 798\n",
            "Copied image 00018691_000.png to /content/selected_images/Atelectasis. Total images in Atelectasis: 898\n",
            "Copied image 00016238_003.png to /content/selected_images/Atelectasis. Total images in Atelectasis: 998\n",
            "Copied image 00009358_001.png to /content/selected_images/Pleural_Thickening. Total images in Pleural_Thickening: 98\n",
            "Copied image 00001114_000.png to /content/selected_images/Pleural_Thickening. Total images in Pleural_Thickening: 198\n",
            "Copied image 00001969_000.png to /content/selected_images/Pleural_Thickening. Total images in Pleural_Thickening: 298\n",
            "Copied image 00007804_008.png to /content/selected_images/Pleural_Thickening. Total images in Pleural_Thickening: 398\n",
            "Copied image 00005043_000.png to /content/selected_images/Pleural_Thickening. Total images in Pleural_Thickening: 498\n",
            "Copied image 00018081_000.png to /content/selected_images/Pleural_Thickening. Total images in Pleural_Thickening: 598\n",
            "Copied image 00001114_000.png to /content/selected_images/Pleural_Thickening. Total images in Pleural_Thickening: 698\n",
            "Copied image 00014822_048.png to /content/selected_images/Pleural_Thickening. Total images in Pleural_Thickening: 798\n",
            "Copied image 00026538_033.png to /content/selected_images/Pleural_Thickening. Total images in Pleural_Thickening: 898\n",
            "Copied image 00017236_107.png to /content/selected_images/Pleural_Thickening. Total images in Pleural_Thickening: 998\n",
            "Copied image 00011355_022.png to /content/selected_images/Pneumothorax. Total images in Pneumothorax: 98\n",
            "Copied image 00011460_015.png to /content/selected_images/Pneumothorax. Total images in Pneumothorax: 198\n",
            "Copied image 00027213_049.png to /content/selected_images/Pneumothorax. Total images in Pneumothorax: 298\n",
            "Copied image 00014014_007.png to /content/selected_images/Pneumothorax. Total images in Pneumothorax: 398\n",
            "Copied image 00011460_021.png to /content/selected_images/Pneumothorax. Total images in Pneumothorax: 498\n",
            "Copied image 00003162_002.png to /content/selected_images/Pneumothorax. Total images in Pneumothorax: 598\n",
            "Copied image 00013209_001.png to /content/selected_images/Pneumothorax. Total images in Pneumothorax: 698\n",
            "Copied image 00026078_005.png to /content/selected_images/Pneumothorax. Total images in Pneumothorax: 798\n",
            "Copied image 00020450_023.png to /content/selected_images/Pneumothorax. Total images in Pneumothorax: 898\n",
            "Copied image 00007355_005.png to /content/selected_images/Pneumothorax. Total images in Pneumothorax: 998\n",
            "Copied image 00020373_000.png to /content/selected_images/Mass. Total images in Mass: 99\n",
            "Copied image 00019089_000.png to /content/selected_images/Mass. Total images in Mass: 199\n",
            "Copied image 00025393_003.png to /content/selected_images/Mass. Total images in Mass: 299\n",
            "Copied image 00006827_005.png to /content/selected_images/Mass. Total images in Mass: 399\n",
            "Copied image 00006829_009.png to /content/selected_images/Mass. Total images in Mass: 499\n",
            "Copied image 00018443_003.png to /content/selected_images/Mass. Total images in Mass: 599\n",
            "Copied image 00021115_002.png to /content/selected_images/Mass. Total images in Mass: 699\n",
            "Copied image 00020427_000.png to /content/selected_images/Mass. Total images in Mass: 799\n",
            "Copied image 00002466_002.png to /content/selected_images/Mass. Total images in Mass: 899\n",
            "Copied image 00026419_001.png to /content/selected_images/Mass. Total images in Mass: 999\n",
            "Copied image 00018325_005.png to /content/selected_images/Fibrosis. Total images in Fibrosis: 98\n",
            "Copied image 00010272_001.png to /content/selected_images/Fibrosis. Total images in Fibrosis: 198\n",
            "Copied image 00025679_000.png to /content/selected_images/Fibrosis. Total images in Fibrosis: 298\n",
            "Copied image 00005609_025.png to /content/selected_images/Fibrosis. Total images in Fibrosis: 398\n",
            "Copied image 00019637_009.png to /content/selected_images/Fibrosis. Total images in Fibrosis: 498\n",
            "Copied image 00004946_000.png to /content/selected_images/Fibrosis. Total images in Fibrosis: 598\n",
            "Copied image 00000324_007.png to /content/selected_images/Fibrosis. Total images in Fibrosis: 698\n",
            "Copied image 00007623_001.png to /content/selected_images/Fibrosis. Total images in Fibrosis: 798\n",
            "Copied image 00015710_000.png to /content/selected_images/Fibrosis. Total images in Fibrosis: 898\n",
            "Copied image 00011543_002.png to /content/selected_images/Fibrosis. Total images in Fibrosis: 998\n",
            "Copied image 00009931_003.png to /content/selected_images/Consolidation. Total images in Consolidation: 97\n",
            "Copied image 00005332_000.png to /content/selected_images/Consolidation. Total images in Consolidation: 197\n",
            "Copied image 00011529_000.png to /content/selected_images/Consolidation. Total images in Consolidation: 297\n",
            "Copied image 00000877_006.png to /content/selected_images/Consolidation. Total images in Consolidation: 397\n",
            "Copied image 00011237_108.png to /content/selected_images/Consolidation. Total images in Consolidation: 497\n",
            "Copied image 00028526_010.png to /content/selected_images/Consolidation. Total images in Consolidation: 597\n",
            "Copied image 00010805_044.png to /content/selected_images/Consolidation. Total images in Consolidation: 697\n",
            "Copied image 00012626_011.png to /content/selected_images/Consolidation. Total images in Consolidation: 797\n",
            "Copied image 00011719_019.png to /content/selected_images/Consolidation. Total images in Consolidation: 897\n",
            "Copied image 00003726_003.png to /content/selected_images/Consolidation. Total images in Consolidation: 997\n",
            "Copied image 00018251_006.png to /content/selected_images/Edema. Total images in Edema: 97\n",
            "Copied image 00014058_002.png to /content/selected_images/Edema. Total images in Edema: 197\n",
            "Copied image 00012976_004.png to /content/selected_images/Edema. Total images in Edema: 297\n",
            "Copied image 00010427_001.png to /content/selected_images/Edema. Total images in Edema: 397\n",
            "Copied image 00026515_007.png to /content/selected_images/Edema. Total images in Edema: 497\n",
            "Copied image 00021969_000.png to /content/selected_images/Edema. Total images in Edema: 597\n",
            "Copied image 00012364_077.png to /content/selected_images/Edema. Total images in Edema: 697\n",
            "Copied image 00020928_014.png to /content/selected_images/Edema. Total images in Edema: 797\n",
            "Copied image 00018840_017.png to /content/selected_images/Edema. Total images in Edema: 897\n",
            "Copied image 00013285_039.png to /content/selected_images/Edema. Total images in Edema: 997\n",
            "Copied image 00026883_001.png to /content/selected_images/Pneumonia. Total images in Pneumonia: 96\n",
            "Copied image 00001992_002.png to /content/selected_images/Pneumonia. Total images in Pneumonia: 196\n",
            "Copied image 00026753_004.png to /content/selected_images/Pneumonia. Total images in Pneumonia: 296\n",
            "Copied image 00010531_073.png to /content/selected_images/Pneumonia. Total images in Pneumonia: 396\n",
            "Copied image 00027648_005.png to /content/selected_images/Pneumonia. Total images in Pneumonia: 496\n",
            "Copied image 00011702_043.png to /content/selected_images/Pneumonia. Total images in Pneumonia: 596\n",
            "Copied image 00018996_002.png to /content/selected_images/Pneumonia. Total images in Pneumonia: 696\n",
            "Copied image 00022877_014.png to /content/selected_images/Pneumonia. Total images in Pneumonia: 796\n",
            "Copied image 00017236_075.png to /content/selected_images/Pneumonia. Total images in Pneumonia: 896\n",
            "Copied image 00014022_102.png to /content/selected_images/Pneumonia. Total images in Pneumonia: 996\n"
          ]
        }
      ],
      "source": [
        "import os\n",
        "import shutil\n",
        "import glob\n",
        "import time\n",
        "import IPython.display as display\n",
        "\n",
        "# Define the path to the main folder where all subfolders with images are stored\n",
        "main_images_folder = '/content/data'\n",
        "\n",
        "# Create a main folder for the selected images\n",
        "selected_images_path = '/content/selected_images'\n",
        "os.makedirs(selected_images_path, exist_ok=True)\n",
        "\n",
        "# To hold the last 10 messages\n",
        "messages = []\n",
        "\n",
        "# Counters for images per class\n",
        "class_counters = {}\n",
        "\n",
        "# Total images copied\n",
        "total_images_copied = 0\n",
        "\n",
        "# Iterate over all selected images\n",
        "for index, row in selected_images_df.iterrows():\n",
        "    # Get the class names and image name for this row\n",
        "    class_names = row['Finding Labels'].split('|')\n",
        "    image_name = row['Image Index']\n",
        "\n",
        "    # If the image has only one label or the first label hasn't been used yet, copy the image\n",
        "    if len(class_names) == 1 or class_names[0] not in class_counters:\n",
        "        class_name = class_names[0]\n",
        "\n",
        "        # Create a folder for this class, if it doesn't exist yet\n",
        "        class_folder = os.path.join(selected_images_path, class_name)\n",
        "        os.makedirs(class_folder, exist_ok=True)\n",
        "\n",
        "        # Initialize the counter for this class if it doesn't exist yet\n",
        "        if class_name not in class_counters:\n",
        "            class_counters[class_name] = 0\n",
        "\n",
        "        # Find the image in the subfolders and copy it into the corresponding class folder\n",
        "        for folder in glob.glob(main_images_folder + '/*'):\n",
        "            source_path = os.path.join(folder, 'images', image_name)\n",
        "            if os.path.exists(source_path):\n",
        "                destination_path = os.path.join(class_folder, image_name)\n",
        "                shutil.copy(source_path, destination_path)\n",
        "\n",
        "                # Increment the counter for this class\n",
        "                class_counters[class_name] += 1\n",
        "\n",
        "                # Increment total images copied\n",
        "                total_images_copied += 1\n",
        "\n",
        "                # Print a message and add it to the messages list if total_images_copied is a multiple of 100\n",
        "                if total_images_copied % 100 == 0:\n",
        "                    message = f\"Copied image {image_name} to {class_folder}. Total images in {class_name}: {class_counters[class_name]}\"\n",
        "                    print(message)\n",
        "                    messages.append(message)\n",
        "\n",
        "                break  # Stop searching once the image is found and copied\n"
      ]
    },
    {
      "cell_type": "code",
      "execution_count": 29,
      "metadata": {
        "id": "y39DohqMyhDw",
        "colab": {
          "base_uri": "https://localhost:8080/"
        },
        "outputId": "ac24672e-5c85-448c-a1fe-84f983848ea5"
      },
      "outputs": [
        {
          "output_type": "stream",
          "name": "stdout",
          "text": [
            "Nodule: 845 files\n",
            "Fibrosis: 548 files\n",
            "Cardiomegaly: 642 files\n",
            "No Finding: 988 files\n",
            "Hernia: 110 files\n",
            "Pneumonia: 313 files\n",
            "Emphysema: 605 files\n",
            "Pneumothorax: 814 files\n",
            "Edema: 502 files\n",
            "Atelectasis: 889 files\n",
            "Mass: 807 files\n",
            "Consolidation: 720 files\n",
            "Infiltration: 944 files\n",
            "Effusion: 899 files\n",
            "Pleural_Thickening: 674 files\n"
          ]
        }
      ],
      "source": [
        "for class_name in os.listdir(selected_images_path):\n",
        "    class_folder = os.path.join(selected_images_path, class_name)\n",
        "    num_files = len(os.listdir(class_folder))\n",
        "    print(f\"{class_name}: {num_files} files\")\n"
      ]
    },
    {
      "cell_type": "code",
      "source": [
        "import shutil\n",
        "\n",
        "# Define the name of the zip file\n",
        "zip_name = 'selected_images'\n",
        "\n",
        "# Compress the folder\n",
        "shutil.make_archive(zip_name, 'zip', selected_images_path)\n"
      ],
      "metadata": {
        "colab": {
          "base_uri": "https://localhost:8080/",
          "height": 37
        },
        "id": "WAQfOrQkWlPC",
        "outputId": "e294f063-e57f-4dc5-f6a3-98ecbba1f62a"
      },
      "execution_count": 33,
      "outputs": [
        {
          "output_type": "execute_result",
          "data": {
            "text/plain": [
              "'/content/selected_images.zip'"
            ],
            "application/vnd.google.colaboratory.intrinsic+json": {
              "type": "string"
            }
          },
          "metadata": {},
          "execution_count": 33
        }
      ]
    },
    {
      "cell_type": "code",
      "source": [
        "from google.colab import drive\n",
        "drive.mount('/content/drive')\n",
        "\n",
        "# copy the zip file into Google Drive\n",
        "shutil.copy('selected_images.zip', '/content/drive/MyDrive/')"
      ],
      "metadata": {
        "colab": {
          "base_uri": "https://localhost:8080/",
          "height": 54
        },
        "id": "zo7R-pZsWl1-",
        "outputId": "12f24c39-7ccc-4fc0-9fb9-a3a23b880fc4"
      },
      "execution_count": 32,
      "outputs": [
        {
          "output_type": "stream",
          "name": "stdout",
          "text": [
            "Mounted at /content/drive\n"
          ]
        },
        {
          "output_type": "execute_result",
          "data": {
            "text/plain": [
              "'/content/drive/MyDrive/selected_images.zip'"
            ],
            "application/vnd.google.colaboratory.intrinsic+json": {
              "type": "string"
            }
          },
          "metadata": {},
          "execution_count": 32
        }
      ]
    },
    {
      "cell_type": "code",
      "source": [],
      "metadata": {
        "id": "dXO4D0RYYmu5"
      },
      "execution_count": null,
      "outputs": []
    }
  ],
  "metadata": {
    "colab": {
      "provenance": []
    },
    "kernelspec": {
      "display_name": "Python 3",
      "name": "python3"
    },
    "language_info": {
      "name": "python"
    }
  },
  "nbformat": 4,
  "nbformat_minor": 0
}